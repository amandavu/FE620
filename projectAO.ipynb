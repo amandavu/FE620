{
 "cells": [
  {
   "cell_type": "code",
   "execution_count": 1,
   "id": "a1a968b3",
   "metadata": {},
   "outputs": [],
   "source": [
    "import pandas as pd\n",
    "import numpy as np\n",
    "import yfinance as yf"
   ]
  },
  {
   "cell_type": "code",
   "execution_count": 13,
   "id": "92b40fb9",
   "metadata": {},
   "outputs": [
    {
     "name": "stderr",
     "output_type": "stream",
     "text": [
      "[*********************100%***********************]  1 of 1 completed\n"
     ]
    },
    {
     "data": {
      "text/html": [
       "<div>\n",
       "<style scoped>\n",
       "    .dataframe tbody tr th:only-of-type {\n",
       "        vertical-align: middle;\n",
       "    }\n",
       "\n",
       "    .dataframe tbody tr th {\n",
       "        vertical-align: top;\n",
       "    }\n",
       "\n",
       "    .dataframe thead th {\n",
       "        text-align: right;\n",
       "    }\n",
       "</style>\n",
       "<table border=\"1\" class=\"dataframe\">\n",
       "  <thead>\n",
       "    <tr style=\"text-align: right;\">\n",
       "      <th>Ticker</th>\n",
       "      <th>AAPL</th>\n",
       "    </tr>\n",
       "    <tr>\n",
       "      <th>Date</th>\n",
       "      <th></th>\n",
       "    </tr>\n",
       "  </thead>\n",
       "  <tbody>\n",
       "    <tr>\n",
       "      <th>2025-04-10</th>\n",
       "      <td>190.419998</td>\n",
       "    </tr>\n",
       "    <tr>\n",
       "      <th>2025-04-11</th>\n",
       "      <td>198.149994</td>\n",
       "    </tr>\n",
       "    <tr>\n",
       "      <th>2025-04-14</th>\n",
       "      <td>202.520004</td>\n",
       "    </tr>\n",
       "    <tr>\n",
       "      <th>2025-04-15</th>\n",
       "      <td>202.139999</td>\n",
       "    </tr>\n",
       "    <tr>\n",
       "      <th>2025-04-16</th>\n",
       "      <td>194.270004</td>\n",
       "    </tr>\n",
       "  </tbody>\n",
       "</table>\n",
       "</div>"
      ],
      "text/plain": [
       "Ticker            AAPL\n",
       "Date                  \n",
       "2025-04-10  190.419998\n",
       "2025-04-11  198.149994\n",
       "2025-04-14  202.520004\n",
       "2025-04-15  202.139999\n",
       "2025-04-16  194.270004"
      ]
     },
     "execution_count": 13,
     "metadata": {},
     "output_type": "execute_result"
    }
   ],
   "source": [
    "tickers = ['AAPL']\n",
    "data = yf.download(tickers, start = '2024-01-01', end = '2025-4-17')\n",
    "data = data['Close']\n",
    "df = pd.DataFrame(data)\n",
    "df.tail()"
   ]
  },
  {
   "cell_type": "code",
   "execution_count": 14,
   "id": "be334641",
   "metadata": {},
   "outputs": [
    {
     "data": {
      "text/html": [
       "<div>\n",
       "<style scoped>\n",
       "    .dataframe tbody tr th:only-of-type {\n",
       "        vertical-align: middle;\n",
       "    }\n",
       "\n",
       "    .dataframe tbody tr th {\n",
       "        vertical-align: top;\n",
       "    }\n",
       "\n",
       "    .dataframe thead th {\n",
       "        text-align: right;\n",
       "    }\n",
       "</style>\n",
       "<table border=\"1\" class=\"dataframe\">\n",
       "  <thead>\n",
       "    <tr style=\"text-align: right;\">\n",
       "      <th>Ticker</th>\n",
       "      <th>AAPL</th>\n",
       "      <th>Log Returns</th>\n",
       "    </tr>\n",
       "    <tr>\n",
       "      <th>Date</th>\n",
       "      <th></th>\n",
       "      <th></th>\n",
       "    </tr>\n",
       "  </thead>\n",
       "  <tbody>\n",
       "    <tr>\n",
       "      <th>2025-04-10</th>\n",
       "      <td>190.419998</td>\n",
       "      <td>-0.043319</td>\n",
       "    </tr>\n",
       "    <tr>\n",
       "      <th>2025-04-11</th>\n",
       "      <td>198.149994</td>\n",
       "      <td>0.039792</td>\n",
       "    </tr>\n",
       "    <tr>\n",
       "      <th>2025-04-14</th>\n",
       "      <td>202.520004</td>\n",
       "      <td>0.021814</td>\n",
       "    </tr>\n",
       "    <tr>\n",
       "      <th>2025-04-15</th>\n",
       "      <td>202.139999</td>\n",
       "      <td>-0.001878</td>\n",
       "    </tr>\n",
       "    <tr>\n",
       "      <th>2025-04-16</th>\n",
       "      <td>194.270004</td>\n",
       "      <td>-0.039712</td>\n",
       "    </tr>\n",
       "  </tbody>\n",
       "</table>\n",
       "</div>"
      ],
      "text/plain": [
       "Ticker            AAPL  Log Returns\n",
       "Date                               \n",
       "2025-04-10  190.419998    -0.043319\n",
       "2025-04-11  198.149994     0.039792\n",
       "2025-04-14  202.520004     0.021814\n",
       "2025-04-15  202.139999    -0.001878\n",
       "2025-04-16  194.270004    -0.039712"
      ]
     },
     "execution_count": 14,
     "metadata": {},
     "output_type": "execute_result"
    }
   ],
   "source": [
    "df['Log Returns'] = np.log(df['AAPL']/df['AAPL'].shift(1))\n",
    "df = df.dropna()\n",
    "df.tail()"
   ]
  },
  {
   "cell_type": "markdown",
   "id": "2e9d2006",
   "metadata": {},
   "source": [
    "Calculating the Parameters"
   ]
  },
  {
   "cell_type": "code",
   "execution_count": 21,
   "id": "74044504",
   "metadata": {},
   "outputs": [
    {
     "name": "stdout",
     "output_type": "stream",
     "text": [
      "S0 Value: 194.27\n",
      "Sigma Annual: 0.29987399728816583\n"
     ]
    }
   ],
   "source": [
    "S_0 = round(df['AAPL'].iloc[-1],2)\n",
    "print(f'S0 Value: {S_0}')\n",
    "sigma_annual = (df['Log Returns'].std())*np.sqrt(252)\n",
    "print(f'Sigma Annual: {sigma_annual}')"
   ]
  },
  {
   "cell_type": "code",
   "execution_count": 27,
   "id": "6b7bd6b8",
   "metadata": {},
   "outputs": [
    {
     "name": "stderr",
     "output_type": "stream",
     "text": [
      "[*********************100%***********************]  1 of 1 completed"
     ]
    },
    {
     "name": "stdout",
     "output_type": "stream",
     "text": [
      "Risk-Free Rate: Ticker\n",
      "^IRX    0.04208\n",
      "Name: 2025-04-16 00:00:00, dtype: float64\n"
     ]
    },
    {
     "name": "stderr",
     "output_type": "stream",
     "text": [
      "\n"
     ]
    }
   ],
   "source": [
    "t_bills = yf.download(\"^IRX\", start=\"2024-01-01\", end=\"2025-04-17\")\n",
    "r = t_bills['Close'].iloc[-1]/100\n",
    "print(f'Risk-Free Rate: {r}')"
   ]
  },
  {
   "cell_type": "code",
   "execution_count": 24,
   "id": "b4aa711d",
   "metadata": {},
   "outputs": [
    {
     "name": "stdout",
     "output_type": "stream",
     "text": [
      "S_0: 194.27\n",
      "Sigma Annual: 0.29987399728816583\n",
      "Risk Free Rate: Ticker\n",
      "^IRX    0.04208\n",
      "Name: 2025-04-16 00:00:00, dtype: float64 \n"
     ]
    }
   ],
   "source": [
    "print(f'S_0: {S_0}\\nSigma Annual: {sigma_annual}\\nRisk Free Rate: {r} ')"
   ]
  },
  {
   "cell_type": "markdown",
   "id": "c588a4e9",
   "metadata": {},
   "source": [
    "Binomial Tree Model"
   ]
  },
  {
   "cell_type": "markdown",
   "id": "ccdd64fb",
   "metadata": {},
   "source": []
  }
 ],
 "metadata": {
  "kernelspec": {
   "display_name": ".new_venv",
   "language": "python",
   "name": "python3"
  },
  "language_info": {
   "codemirror_mode": {
    "name": "ipython",
    "version": 3
   },
   "file_extension": ".py",
   "mimetype": "text/x-python",
   "name": "python",
   "nbconvert_exporter": "python",
   "pygments_lexer": "ipython3",
   "version": "3.10.5"
  }
 },
 "nbformat": 4,
 "nbformat_minor": 5
}
