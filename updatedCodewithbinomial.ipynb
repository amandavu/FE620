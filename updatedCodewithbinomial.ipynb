{
 "cells": [
  {
   "cell_type": "code",
   "execution_count": 25,
   "id": "a1a968b3",
   "metadata": {},
   "outputs": [],
   "source": [
    "import pandas as pd\n",
    "import numpy as np\n",
    "import yfinance as yf"
   ]
  },
  {
   "cell_type": "code",
   "execution_count": 26,
   "id": "92b40fb9",
   "metadata": {},
   "outputs": [
    {
     "name": "stderr",
     "output_type": "stream",
     "text": [
      "[*********************100%***********************]  1 of 1 completed\n"
     ]
    },
    {
     "data": {
      "text/html": [
       "<div>\n",
       "<style scoped>\n",
       "    .dataframe tbody tr th:only-of-type {\n",
       "        vertical-align: middle;\n",
       "    }\n",
       "\n",
       "    .dataframe tbody tr th {\n",
       "        vertical-align: top;\n",
       "    }\n",
       "\n",
       "    .dataframe thead th {\n",
       "        text-align: right;\n",
       "    }\n",
       "</style>\n",
       "<table border=\"1\" class=\"dataframe\">\n",
       "  <thead>\n",
       "    <tr style=\"text-align: right;\">\n",
       "      <th>Ticker</th>\n",
       "      <th>AAPL</th>\n",
       "    </tr>\n",
       "    <tr>\n",
       "      <th>Date</th>\n",
       "      <th></th>\n",
       "    </tr>\n",
       "  </thead>\n",
       "  <tbody>\n",
       "    <tr>\n",
       "      <th>2025-04-10</th>\n",
       "      <td>190.419998</td>\n",
       "    </tr>\n",
       "    <tr>\n",
       "      <th>2025-04-11</th>\n",
       "      <td>198.149994</td>\n",
       "    </tr>\n",
       "    <tr>\n",
       "      <th>2025-04-14</th>\n",
       "      <td>202.520004</td>\n",
       "    </tr>\n",
       "    <tr>\n",
       "      <th>2025-04-15</th>\n",
       "      <td>202.139999</td>\n",
       "    </tr>\n",
       "    <tr>\n",
       "      <th>2025-04-16</th>\n",
       "      <td>194.270004</td>\n",
       "    </tr>\n",
       "  </tbody>\n",
       "</table>\n",
       "</div>"
      ],
      "text/plain": [
       "Ticker            AAPL\n",
       "Date                  \n",
       "2025-04-10  190.419998\n",
       "2025-04-11  198.149994\n",
       "2025-04-14  202.520004\n",
       "2025-04-15  202.139999\n",
       "2025-04-16  194.270004"
      ]
     },
     "execution_count": 26,
     "metadata": {},
     "output_type": "execute_result"
    }
   ],
   "source": [
    "tickers = ['AAPL']\n",
    "data = yf.download(tickers, start = '2024-01-01', end = '2025-4-17')\n",
    "data = data['Close']\n",
    "df = pd.DataFrame(data)\n",
    "df.tail()"
   ]
  },
  {
   "cell_type": "code",
   "execution_count": 27,
   "id": "be334641",
   "metadata": {},
   "outputs": [
    {
     "data": {
      "text/html": [
       "<div>\n",
       "<style scoped>\n",
       "    .dataframe tbody tr th:only-of-type {\n",
       "        vertical-align: middle;\n",
       "    }\n",
       "\n",
       "    .dataframe tbody tr th {\n",
       "        vertical-align: top;\n",
       "    }\n",
       "\n",
       "    .dataframe thead th {\n",
       "        text-align: right;\n",
       "    }\n",
       "</style>\n",
       "<table border=\"1\" class=\"dataframe\">\n",
       "  <thead>\n",
       "    <tr style=\"text-align: right;\">\n",
       "      <th>Ticker</th>\n",
       "      <th>AAPL</th>\n",
       "      <th>Log Returns</th>\n",
       "    </tr>\n",
       "    <tr>\n",
       "      <th>Date</th>\n",
       "      <th></th>\n",
       "      <th></th>\n",
       "    </tr>\n",
       "  </thead>\n",
       "  <tbody>\n",
       "    <tr>\n",
       "      <th>2025-04-10</th>\n",
       "      <td>190.419998</td>\n",
       "      <td>-0.043319</td>\n",
       "    </tr>\n",
       "    <tr>\n",
       "      <th>2025-04-11</th>\n",
       "      <td>198.149994</td>\n",
       "      <td>0.039792</td>\n",
       "    </tr>\n",
       "    <tr>\n",
       "      <th>2025-04-14</th>\n",
       "      <td>202.520004</td>\n",
       "      <td>0.021814</td>\n",
       "    </tr>\n",
       "    <tr>\n",
       "      <th>2025-04-15</th>\n",
       "      <td>202.139999</td>\n",
       "      <td>-0.001878</td>\n",
       "    </tr>\n",
       "    <tr>\n",
       "      <th>2025-04-16</th>\n",
       "      <td>194.270004</td>\n",
       "      <td>-0.039712</td>\n",
       "    </tr>\n",
       "  </tbody>\n",
       "</table>\n",
       "</div>"
      ],
      "text/plain": [
       "Ticker            AAPL  Log Returns\n",
       "Date                               \n",
       "2025-04-10  190.419998    -0.043319\n",
       "2025-04-11  198.149994     0.039792\n",
       "2025-04-14  202.520004     0.021814\n",
       "2025-04-15  202.139999    -0.001878\n",
       "2025-04-16  194.270004    -0.039712"
      ]
     },
     "execution_count": 27,
     "metadata": {},
     "output_type": "execute_result"
    }
   ],
   "source": [
    "df['Log Returns'] = np.log(df['AAPL']/df['AAPL'].shift(1))\n",
    "df = df.dropna()\n",
    "df.tail()"
   ]
  },
  {
   "cell_type": "markdown",
   "id": "2e9d2006",
   "metadata": {},
   "source": [
    "Calculating the Parameters"
   ]
  },
  {
   "cell_type": "code",
   "execution_count": 28,
   "id": "74044504",
   "metadata": {},
   "outputs": [
    {
     "name": "stdout",
     "output_type": "stream",
     "text": [
      "S0 Value: 194.27\n",
      "Sigma Annual: 0.29987397545108635\n"
     ]
    }
   ],
   "source": [
    "S_0 = round(df['AAPL'].iloc[-1],2)\n",
    "print(f'S0 Value: {S_0}')\n",
    "sigma_annual = (df['Log Returns'].std())*np.sqrt(252)\n",
    "print(f'Sigma Annual: {sigma_annual}')"
   ]
  },
  {
   "cell_type": "code",
   "execution_count": 29,
   "id": "6b7bd6b8",
   "metadata": {},
   "outputs": [
    {
     "name": "stderr",
     "output_type": "stream",
     "text": [
      "[*********************100%***********************]  1 of 1 completed"
     ]
    },
    {
     "name": "stdout",
     "output_type": "stream",
     "text": [
      "Risk-Free Rate: Ticker\n",
      "^IRX    0.04208\n",
      "Name: 2025-04-16 00:00:00, dtype: float64\n"
     ]
    },
    {
     "name": "stderr",
     "output_type": "stream",
     "text": [
      "\n"
     ]
    }
   ],
   "source": [
    "t_bills = yf.download(\"^IRX\", start=\"2024-01-01\", end=\"2025-04-17\")\n",
    "r = t_bills['Close'].iloc[-1]/100\n",
    "print(f'Risk-Free Rate: {r}')"
   ]
  },
  {
   "cell_type": "code",
   "execution_count": 30,
   "id": "b4aa711d",
   "metadata": {},
   "outputs": [
    {
     "name": "stdout",
     "output_type": "stream",
     "text": [
      "S_0: 194.27\n",
      "Sigma Annual: 0.29987397545108635\n",
      "Risk Free Rate: Ticker\n",
      "^IRX    0.04208\n",
      "Name: 2025-04-16 00:00:00, dtype: float64 \n"
     ]
    }
   ],
   "source": [
    "print(f'S_0: {S_0}\\nSigma Annual: {sigma_annual}\\nRisk Free Rate: {r} ')"
   ]
  },
  {
   "cell_type": "code",
   "execution_count": 31,
   "id": "6cc3a3fd-856a-4e99-ac69-a525639255eb",
   "metadata": {},
   "outputs": [],
   "source": [
    "def binomial_american_option(S0, K, T, r, sigma, N, option_type=\"put\", american=True):\n",
    "    dt = T / N\n",
    "    u = np.exp(sigma * np.sqrt(dt))\n",
    "    d = 1 / u\n",
    "    q = (np.exp(r * dt) - d) / (u - d)\n",
    "\n",
    "    # Initialize asset prices at maturity\n",
    "    ST = np.array([S0 * (u ** j) * (d ** (N - j)) for j in range(N + 1)])\n",
    "    \n",
    "    # Option values at maturity\n",
    "    if option_type == \"call\":\n",
    "        V = np.maximum(ST - K, 0)\n",
    "    else:\n",
    "        V = np.maximum(K - ST, 0)\n",
    "\n",
    "    # Step backward through tree\n",
    "    for t in range(N - 1, -1, -1):\n",
    "        for i in range(t + 1):\n",
    "            ST_i = S0 * (u ** i) * (d ** (t - i))\n",
    "            exercise = max(K - ST_i, 0) if option_type == \"put\" else max(ST_i - K, 0)\n",
    "            hold = np.exp(-r * dt) * (q * V[i + 1] + (1 - q) * V[i])\n",
    "            V[i] = max(exercise, hold) if american else hold\n",
    "\n",
    "    return V[0]"
   ]
  },
  {
   "cell_type": "code",
   "execution_count": 32,
   "id": "ca13d190-eb14-440e-8a71-73ae609ca8c3",
   "metadata": {},
   "outputs": [
    {
     "name": "stdout",
     "output_type": "stream",
     "text": [
      "S_0: 194.27000427246094\n",
      "Sigma Annual: 0.29987397545108635\n",
      "Risk Free Rate: 0.04208000183105469\n",
      "\n",
      "Binomial American Call Option Price: 6.6901\n",
      "\n"
     ]
    },
    {
     "name": "stderr",
     "output_type": "stream",
     "text": [
      "/var/folders/9p/bvy9kzls70qg_lj9g9xhcxv80000gn/T/ipykernel_33928/2806344713.py:3: FutureWarning: Calling float on a single element Series is deprecated and will raise a TypeError in the future. Use float(ser.iloc[0]) instead\n",
      "  r = float(t_bills['Close'].iloc[-1]) / 100\n"
     ]
    }
   ],
   "source": [
    "S_0 = float(df['AAPL'].iloc[-1])\n",
    "sigma_annual = float((df['Log Returns'].std()) * np.sqrt(252))\n",
    "r = float(t_bills['Close'].iloc[-1]) / 100\n",
    "\n",
    "K = 195       # strike price (adjust if needed)\n",
    "T = 1 / 12    # 1 month to expiration\n",
    "N = 100       # time steps\n",
    "option_type = \"call\"\n",
    "\n",
    "price = binomial_american_option(S_0, K, T, r, sigma_annual, N, option_type=option_type)\n",
    "\n",
    "print(f\"\"\"S_0: {S_0}\n",
    "Sigma Annual: {sigma_annual}\n",
    "Risk Free Rate: {r}\n",
    "\n",
    "Binomial American {option_type.title()} Option Price: {price:.4f}\n",
    "\"\"\")\n"
   ]
  },
  {
   "cell_type": "code",
   "execution_count": 35,
   "id": "7741cf4b-1310-4dcf-b9a8-4e6f0ddc67ec",
   "metadata": {},
   "outputs": [
    {
     "name": "stdout",
     "output_type": "stream",
     "text": [
      "Convergence Test (Varying Steps N):\n",
      "Steps: 25, Price: 6.7449\n",
      "Steps: 50, Price: 6.6853\n",
      "Steps: 100, Price: 6.6901\n",
      "Steps: 150, Price: 6.6904\n",
      "Steps: 200, Price: 6.6900\n"
     ]
    }
   ],
   "source": [
    "# Convergence test - change N and observe price stability\n",
    "N_values = [25, 50, 100, 150, 200]\n",
    "convergence_results = []\n",
    "\n",
    "for N_test in N_values:\n",
    "    p = binomial_american_option(S_0, K, T, r, sigma_annual, N_test, option_type=\"call\")\n",
    "    convergence_results.append((N_test, p))\n",
    "\n",
    "# Print results\n",
    "print(\"Convergence Test (Varying Steps N):\")\n",
    "for n, price in convergence_results:\n",
    "    print(f\"Steps: {n}, Price: {price:.4f}\")\n"
   ]
  },
  {
   "cell_type": "code",
   "execution_count": 36,
   "id": "d75e0611-4064-42f4-90a7-7633668b56e2",
   "metadata": {},
   "outputs": [
    {
     "name": "stdout",
     "output_type": "stream",
     "text": [
      "\n",
      "Sensitivity Test (Varying Volatility σ):\n",
      "Volatility: 0.20, Price: 4.4592\n",
      "Volatility: 0.25, Price: 5.5765\n",
      "Volatility: 0.30, Price: 6.6929\n",
      "Volatility: 0.35, Price: 7.8085\n"
     ]
    }
   ],
   "source": [
    "# Sensitivity test - change sigma and observe impact on price\n",
    "sigma_values = [0.20, 0.25, 0.30, 0.35]\n",
    "sensitivity_results = []\n",
    "\n",
    "for sigma_test in sigma_values:\n",
    "    p = binomial_american_option(S_0, K, T, r, sigma_test, N, option_type=\"call\")\n",
    "    sensitivity_results.append((sigma_test, p))\n",
    "\n",
    "# Print results\n",
    "print(\"\\nSensitivity Test (Varying Volatility σ):\")\n",
    "for sigma, price in sensitivity_results:\n",
    "    print(f\"Volatility: {sigma:.2f}, Price: {price:.4f}\")\n"
   ]
  },
  {
   "cell_type": "code",
   "execution_count": 37,
   "id": "ff6a7201-8edf-43d3-919e-b3f58d971ebb",
   "metadata": {},
   "outputs": [
    {
     "data": {
      "image/png": "[encoded data removed]",
      "text/plain": [
       "<Figure size 640x480 with 1 Axes>"
      ]
     },
     "metadata": {},
     "output_type": "display_data"
    }
   ],
   "source": [
    "import matplotlib.pyplot as plt\n",
    "\n",
    "n_vals, p_vals = zip(*convergence_results)\n",
    "plt.plot(n_vals, p_vals, marker='o')\n",
    "plt.xlabel(\"Steps (N)\")\n",
    "plt.ylabel(\"Option Price\")\n",
    "plt.title(\"Convergence of American CAall Option Price\")\n",
    "plt.grid(True)\n",
    "plt.show()\n"
   ]
  },
  {
   "cell_type": "code",
   "execution_count": 38,
   "id": "79a1c3b5-7905-44ce-adc0-c02d5ad3664e",
   "metadata": {},
   "outputs": [
    {
     "data": {
      "image/png": "[encoded data removed]",
      "text/plain": [
       "<Figure size 640x480 with 1 Axes>"
      ]
     },
     "metadata": {},
     "output_type": "display_data"
    }
   ],
   "source": [
    "s_vals, p_vals = zip(*sensitivity_results)\n",
    "plt.plot(s_vals, p_vals, marker='o')\n",
    "plt.xlabel(\"Volatility (σ)\")\n",
    "plt.ylabel(\"Option Price\")\n",
    "plt.title(\"Option Price Sensitivity to Volatility\")\n",
    "plt.grid(True)\n",
    "plt.show()\n"
   ]
  },
  {
   "cell_type": "code",
   "execution_count": null,
   "id": "80928c90-220f-41b4-9c2a-30a0a8e8c514",
   "metadata": {},
   "outputs": [],
   "source": []
  }
 ],
 "metadata": {
  "kernelspec": {
   "display_name": "Python 3 (ipykernel)",
   "language": "python",
   "name": "python3"
  },
  "language_info": {
   "codemirror_mode": {
    "name": "ipython",
    "version": 3
   },
   "file_extension": ".py",
   "mimetype": "text/x-python",
   "name": "python",
   "nbconvert_exporter": "python",
   "pygments_lexer": "ipython3",
   "version": "3.11.0"
  }
 },
 "nbformat": 4,
 "nbformat_minor": 5
}
